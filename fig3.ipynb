{
 "cells": [
  {
   "cell_type": "code",
   "execution_count": null,
   "metadata": {},
   "outputs": [],
   "source": [
    "from utils_figure_plot import DynamicUpdate\n",
    "import numpy as np\n",
    "import matplotlib.pyplot as plt\n",
    "import matplotlib as mpl\n",
    "from joblib import Parallel, delayed\n",
    "import random\n",
    "import os\n",
    "mpl.rcParams['pdf.fonttype'] = 42\n",
    "mpl.rcParams['ps.fonttype'] = 42\n",
    "\n",
    "from MLP_nutrient_antibiotic_control import CDQL as RL_model\n",
    "from Naive_control import CDQL as Naive_model"
   ]
  },
  {
   "cell_type": "code",
   "execution_count": 2,
   "metadata": {},
   "outputs": [],
   "source": [
    "def eval(model, plot_name='rl', num_decisions=200, num_evals=15):\n",
    "        \"\"\"Given trained q networks, generate trajectories\n",
    "        \"\"\"\n",
    "        print(\"Evaluation\")\n",
    "        model.folder_name = \"./Eval_Results\"\n",
    "        os.makedirs(model.folder_name, exist_ok=True)\n",
    "        model.update_plot = DynamicUpdate(model.folder_name)\n",
    "\n",
    "        extinct_times = []\n",
    "        extinct_count = 0\n",
    "\n",
    "        results = Parallel(n_jobs=15)(delayed(model.rollout)(num_decisions) for i in range(num_evals))\n",
    "        # results = [model.rollout(num_decisions) for i in range(num_evals)]\n",
    "\n",
    "        if plot_name == 'rl':\n",
    "                b, cell_count, t, kn0, sum_rewards, *_ = list(zip(*results))\n",
    "        else:\n",
    "                b, cell_count, t, kn0, sum_rewards = list(zip(*results))\n",
    "        for time, count in zip(t,cell_count):\n",
    "\n",
    "            # save extinction times\n",
    "            if count[-1] == 0:\n",
    "                    extinct_times.append(time[-1])\n",
    "                    extinct_count +=1\n",
    "\n",
    "        model.ave_sum_rewards.append(np.array(sum_rewards).mean())\n",
    "        model.std_sum_rewards.append(np.array(sum_rewards).std())\n",
    "        # save results\n",
    "        ave_ext_time = sum(extinct_times)/len(extinct_times) if len(extinct_times) > 0 else np.Inf\n",
    "        print(\"extinction fraction:\", extinct_count/num_evals)\n",
    "\n",
    "        # select trajectories randomly to plot\n",
    "        # rand_i = random.sample(range(num_evals), 5)\n",
    "        # model.update_plot(plot_name, t, cell_count, kn0, b, rand_i)\n",
    "\n",
    "        return extinct_count/num_evals"
   ]
  },
  {
   "cell_type": "code",
   "execution_count": 3,
   "metadata": {},
   "outputs": [
    {
     "name": "stdout",
     "output_type": "stream",
     "text": [
      "Partially trained model found, starting from episode  350 .\n"
     ]
    }
   ],
   "source": [
    "# load models to compare\n",
    "\n",
    "training_config = {\"delay_embed_len\": 20, \"folder_name\": \"./Results\", \"T\": 12}\n",
    "rl = RL_model(training_config=training_config)\n",
    "folder_name = \"/Users/Josiah/Documents/OSPool/feb24_nutr_drug_control2act/Fluc_nutrient\"\n",
    "rl.load_data(folder_name=folder_name)\n",
    "\n",
    "naive = Naive_model()"
   ]
  },
  {
   "cell_type": "code",
   "execution_count": 4,
   "metadata": {},
   "outputs": [
    {
     "name": "stdout",
     "output_type": "stream",
     "text": [
      "Evaluation\n"
     ]
    },
    {
     "name": "stderr",
     "output_type": "stream",
     "text": [
      "mkdir: ./Eval_Results/Eval: File exists\n"
     ]
    },
    {
     "name": "stdout",
     "output_type": "stream",
     "text": [
      "extinction fraction: 0.3333333333333333\n",
      "Evaluation\n"
     ]
    },
    {
     "name": "stderr",
     "output_type": "stream",
     "text": [
      "mkdir: ./Eval_Results/Eval: File exists\n"
     ]
    },
    {
     "name": "stdout",
     "output_type": "stream",
     "text": [
      "extinction fraction: 1.0\n",
      "Evaluation\n"
     ]
    },
    {
     "name": "stderr",
     "output_type": "stream",
     "text": [
      "mkdir: ./Eval_Results/Eval: File exists\n"
     ]
    },
    {
     "name": "stdout",
     "output_type": "stream",
     "text": [
      "extinction fraction: 0.26666666666666666\n",
      "Evaluation\n"
     ]
    },
    {
     "name": "stderr",
     "output_type": "stream",
     "text": [
      "mkdir: ./Eval_Results/Eval: File exists\n"
     ]
    },
    {
     "name": "stdout",
     "output_type": "stream",
     "text": [
      "extinction fraction: 1.0\n",
      "Evaluation\n"
     ]
    },
    {
     "name": "stderr",
     "output_type": "stream",
     "text": [
      "mkdir: ./Eval_Results/Eval: File exists\n"
     ]
    },
    {
     "name": "stdout",
     "output_type": "stream",
     "text": [
      "extinction fraction: 0.26666666666666666\n",
      "Evaluation\n"
     ]
    },
    {
     "name": "stderr",
     "output_type": "stream",
     "text": [
      "mkdir: ./Eval_Results/Eval: File exists\n"
     ]
    },
    {
     "name": "stdout",
     "output_type": "stream",
     "text": [
      "extinction fraction: 1.0\n"
     ]
    }
   ],
   "source": [
    "replicates = 3\n",
    "naive_fraction = []\n",
    "rl_fraction = []\n",
    "\n",
    "for i in range(replicates):\n",
    "    naive_fraction.append(eval(naive, \"naive\"))\n",
    "    rl_fraction.append(eval(rl, \"rl\"))\n",
    "\n",
    "ave_naive_ext_frac = sum(naive_fraction) / len(naive_fraction)\n",
    "ave_rl_ext_frac = sum(rl_fraction) / len(rl_fraction)"
   ]
  },
  {
   "cell_type": "code",
   "execution_count": 5,
   "metadata": {},
   "outputs": [],
   "source": [
    "naive_ext_frac_std = np.std(np.array(naive_fraction))\n",
    "rl_ext_frac_std = np.std(np.array(rl_fraction))\n",
    "errors = [naive_ext_frac_std, rl_ext_frac_std]"
   ]
  },
  {
   "cell_type": "code",
   "execution_count": 7,
   "metadata": {},
   "outputs": [
    {
     "data": {
      "image/png": "[encoded data removed]",
      "text/plain": [
       "<Figure size 640x480 with 1 Axes>"
      ]
     },
     "metadata": {},
     "output_type": "display_data"
    }
   ],
   "source": [
    "plt.rcParams.update({\"font.size\": 13})\n",
    "fig = plt.figure()\n",
    "\n",
    "control_type = ['Naive', 'RL']\n",
    "extinct_fraction = [ave_naive_ext_frac, ave_rl_ext_frac]\n",
    "plt.bar(control_type,extinct_fraction, yerr=errors, capsize=5)\n",
    "plt.ylabel('Extinction Fraction')\n",
    "plt.show()\n",
    "fig.savefig('rl_vs_naive_bar_plot.pdf', dpi=300, bbox_inches='tight')"
   ]
  },
  {
   "cell_type": "code",
   "execution_count": null,
   "metadata": {},
   "outputs": [],
   "source": []
  },
  {
   "cell_type": "code",
   "execution_count": null,
   "metadata": {},
   "outputs": [
    {
     "data": {
      "image/png": "[encoded data removed]",
      "text/plain": [
       "<Figure size 640x480 with 1 Axes>"
      ]
     },
     "metadata": {},
     "output_type": "display_data"
    }
   ],
   "source": [
    "# ToDo: save simulation data to recreate this type of plot\n",
    "\n",
    "x_before = np.random.normal(0.0, scale=0.01, size=1000)\n",
    "x_before = x_before.clip(0,1)\n",
    "x_after = np.random.normal(0.2, scale=0.02, size=500)\n",
    "plt.hist(x_before)\n",
    "plt.hist(x_after)\n",
    "plt.xlabel('Stress protein expression, $\\phi_S$')\n",
    "plt.show()"
   ]
  },
  {
   "cell_type": "code",
   "execution_count": null,
   "metadata": {},
   "outputs": [],
   "source": []
  }
 ],
 "metadata": {
  "kernelspec": {
   "display_name": "Python 3",
   "language": "python",
   "name": "python3"
  },
  "language_info": {
   "codemirror_mode": {
    "name": "ipython",
    "version": 3
   },
   "file_extension": ".py",
   "mimetype": "text/x-python",
   "name": "python",
   "nbconvert_exporter": "python",
   "pygments_lexer": "ipython3",
   "version": "3.13.3"
  }
 },
 "nbformat": 4,
 "nbformat_minor": 2
}
