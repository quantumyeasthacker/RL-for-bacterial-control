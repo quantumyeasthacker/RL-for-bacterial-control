{
 "cells": [
  {
   "cell_type": "code",
   "execution_count": 1,
   "metadata": {},
   "outputs": [],
   "source": [
    "from cell_model_full_parallel import Cell_Population\n",
    "from utils_figure_plot import DynamicUpdate, plot_reward_Q_loss\n",
    "import numpy as np\n",
    "import matplotlib.pyplot as plt\n",
    "import matplotlib as mpl\n",
    "from joblib import Parallel, delayed\n",
    "import random\n",
    "from scipy import signal\n",
    "import os\n",
    "mpl.rcParams['pdf.fonttype'] = 42\n",
    "mpl.rcParams['ps.fonttype'] = 42"
   ]
  },
  {
   "cell_type": "markdown",
   "metadata": {},
   "source": [
    "For assessing naive policies"
   ]
  },
  {
   "cell_type": "code",
   "execution_count": 6,
   "metadata": {},
   "outputs": [],
   "source": [
    "class CDQL:\n",
    "    def __init__(self, delay_embed_len=20,\n",
    "            batch_size=512,\n",
    "            delta_t=0.2,\n",
    "            omega=0.02,\n",
    "            gamma=0.99,\n",
    "            update_freq=2,\n",
    "            use_gpu=False,\n",
    "            num_cells_init=60,\n",
    "            agent_input=\"full\"):\n",
    "\n",
    "        self.delta_t = delta_t\n",
    "        self.sim_controller = Cell_Population(num_cells_init, delta_t, omega)\n",
    "        self.delay_embed_len = delay_embed_len\n",
    "\n",
    "        self.b_actions = [0.0, 3.2]\n",
    "        self.b_num_actions = len(self.b_actions)\n",
    "        self.kn0_actions = [1.0, 2.0, 3.0, 4.0]\n",
    "        self.kn0_num_actions = len(self.kn0_actions)\n",
    "        self.num_actions = self.b_num_actions*self.kn0_num_actions\n",
    "        b, kn0 = np.meshgrid(range(self.b_num_actions), range(self.kn0_num_actions))\n",
    "        self.b_index = b.flatten()\n",
    "        self.kn0_index = kn0.flatten()\n",
    "\n",
    "        if agent_input == \"full\":\n",
    "            self.get_state_reward = self.sim_controller.get_reward_all\n",
    "            self.embed_multiplier = 3\n",
    "        elif agent_input == \"no_nutrient\":\n",
    "            self.get_state_reward = self.sim_controller.get_reward_no_nutrient\n",
    "            self.embed_multiplier = 2\n",
    "        elif agent_input == \"no_act\":\n",
    "            self.get_state_reward = self.sim_controller.get_reward_no_antibiotic\n",
    "            self.embed_multiplier = 2\n",
    "        else:\n",
    "            raise ValueError(\"Invalid agent_input value.\")\n",
    "\n",
    "        self.ave_sum_rewards = []\n",
    "        self.std_sum_rewards = []\n",
    "        self.episode_num = 0\n",
    "\n",
    "\n",
    "    def eval(self, episode, num_decisions=50, num_evals=15):\n",
    "        \"\"\"Given trained q networks, generate trajectories\n",
    "        \"\"\"\n",
    "        print(\"Evaluation\")\n",
    "        self.folder_name = \"./NaiveEval_Results\"\n",
    "        os.makedirs(self.folder_name, exist_ok=True)\n",
    "        self.update_plot = DynamicUpdate(self.delta_t,self.delay_embed_len,self.folder_name)\n",
    "\n",
    "        extinct_times = []\n",
    "        extinct_count = 0\n",
    "\n",
    "        results = Parallel(n_jobs=-1)(delayed(self.rollout)(num_decisions) for i in range(num_evals))\n",
    "        # results = [self.rollout(num_decisions) for i in range(num_evals)]\n",
    "\n",
    "        b, cell_count, t, kn0, sum_rewards = list(zip(*results))\n",
    "        for time, count in zip(t,cell_count):\n",
    "\n",
    "            # save extinction times\n",
    "            if count[-1] == 0:\n",
    "                    extinct_times.append(time[-1])\n",
    "                    extinct_count +=1\n",
    "\n",
    "        self.ave_sum_rewards.append(np.array(sum_rewards).mean())\n",
    "        self.std_sum_rewards.append(np.array(sum_rewards).std())\n",
    "        # save results\n",
    "        ave_ext_time = sum(extinct_times)/len(extinct_times) if len(extinct_times) > 0 else np.Inf\n",
    "        print(\"extinction fraction:\", extinct_count/num_evals)\n",
    "\n",
    "        # select trajectories randomly to plot\n",
    "        rand_i = random.sample(range(num_evals), 5)\n",
    "        self.update_plot(episode, t, cell_count, kn0, b, rand_i)\n",
    "\n",
    "    def rollout(self, num_decisions):\n",
    "        b_all = np.zeros((num_decisions+self.delay_embed_len,1))\n",
    "        cell_count_all = np.zeros((num_decisions+self.delay_embed_len,1))\n",
    "        t_all = np.zeros((num_decisions+self.delay_embed_len,1))\n",
    "        kn0_all = np.zeros((num_decisions+self.delay_embed_len,1))\n",
    "        rewards_all = np.zeros((num_decisions+self.delay_embed_len,1))\n",
    "\n",
    "        # warmup\n",
    "        b = 0.0\n",
    "        k_n0 = random.sample(self.kn0_actions,1)[0]\n",
    "        state = [0]*self.delay_embed_len*self.embed_multiplier\n",
    "        self.sim_controller.initialize(b, k_n0)\n",
    "        _, cell_count = self.sim_controller.simulate_population(self.sim_controller.num_cells_init, b, k_n0)\n",
    "        for k in range(1,36+self.delay_embed_len):\n",
    "            t, cell_count = self.sim_controller.simulate_population(cell_count[-1], b, k_n0)\n",
    "            if k >= 36:\n",
    "                state, rewards_all[k-36], _ = self.get_state_reward(state, cell_count, b)\n",
    "\n",
    "                b_all[k-36] = b\n",
    "                cell_count_all[k-36] = cell_count[-1]\n",
    "                t_all[k-36] = t[-1]\n",
    "                kn0_all[k-36] = self.sim_controller.k_n0\n",
    "\n",
    "        for j in range(num_decisions):\n",
    "            action_b = max(self.b_actions)\n",
    "            action_kn0 = min(self.kn0_actions)\n",
    "            t, cell_count = self.sim_controller.simulate_population(cell_count[-1], action_b, action_kn0)\n",
    "            state, rewards_all[j+self.delay_embed_len], _ = self.get_state_reward(state, cell_count, action_b/max(self.b_actions))\n",
    "\n",
    "            b_all[j+self.delay_embed_len] = action_b\n",
    "            cell_count_all[j+self.delay_embed_len] = cell_count[-1]\n",
    "            t_all[j+self.delay_embed_len] = t[-1]\n",
    "            kn0_all[j+self.delay_embed_len] = self.sim_controller.k_n0\n",
    "            if cell_count[-1] == 0:\n",
    "                # trim arrays to length of episode\n",
    "                b_all, cell_count_all, t_all, kn0_all = trim([b_all,cell_count_all,t_all,kn0_all], j+self.delay_embed_len+1)\n",
    "                break\n",
    "\n",
    "        sum_rewards = np.array([rewards_all.sum()])\n",
    "        return b_all, cell_count_all, t_all, kn0_all, rewards_all\n",
    "\n",
    "def trim(list, trim_ind):\n",
    "    return [vec[:trim_ind] for vec in list]"
   ]
  },
  {
   "cell_type": "code",
   "execution_count": 7,
   "metadata": {},
   "outputs": [
    {
     "name": "stdout",
     "output_type": "stream",
     "text": [
      "Evaluation\n"
     ]
    },
    {
     "name": "stderr",
     "output_type": "stream",
     "text": [
      "mkdir: ./NaiveEval_Results/Eval: File exists\n"
     ]
    },
    {
     "name": "stdout",
     "output_type": "stream",
     "text": [
      "extinction fraction: 0.06666666666666667\n"
     ]
    }
   ],
   "source": [
    "c = CDQL()\n",
    "c.eval(1)"
   ]
  },
  {
   "cell_type": "code",
   "execution_count": 7,
   "metadata": {},
   "outputs": [
    {
     "data": {
      "image/png": "[encoded data removed]",
      "text/plain": [
       "<Figure size 640x480 with 1 Axes>"
      ]
     },
     "metadata": {},
     "output_type": "display_data"
    }
   ],
   "source": [
    "control_type = ['RL','Naive']\n",
    "extinct_fraction = [0.9, 0.13]\n",
    "plt.bar(control_type,extinct_fraction)\n",
    "plt.ylabel('Extinction Fraction')\n",
    "plt.show()"
   ]
  },
  {
   "cell_type": "code",
   "execution_count": 15,
   "metadata": {},
   "outputs": [
    {
     "data": {
      "image/png": "[encoded data removed]",
      "text/plain": [
       "<Figure size 640x480 with 1 Axes>"
      ]
     },
     "metadata": {},
     "output_type": "display_data"
    }
   ],
   "source": [
    "x_before = np.random.normal(0.0, scale=0.01, size=1000)\n",
    "x_before = x_before.clip(0,1)\n",
    "x_after = np.random.normal(0.2, scale=0.02, size=500)\n",
    "plt.hist(x_before)\n",
    "plt.hist(x_after)\n",
    "plt.xlabel('Stress protein expression, $\\phi_S$')\n",
    "plt.show()"
   ]
  },
  {
   "cell_type": "code",
   "execution_count": null,
   "metadata": {},
   "outputs": [],
   "source": []
  }
 ],
 "metadata": {
  "kernelspec": {
   "display_name": "Python 3",
   "language": "python",
   "name": "python3"
  },
  "language_info": {
   "codemirror_mode": {
    "name": "ipython",
    "version": 3
   },
   "file_extension": ".py",
   "mimetype": "text/x-python",
   "name": "python",
   "nbconvert_exporter": "python",
   "pygments_lexer": "ipython3",
   "version": "3.11.6"
  }
 },
 "nbformat": 4,
 "nbformat_minor": 2
}
